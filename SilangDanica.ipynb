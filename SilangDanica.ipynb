{
 "cells": [
  {
   "cell_type": "markdown",
   "metadata": {},
   "source": [
    "# Global Suicides Data Exploration\n",
    "\n",
    "## by Ayush Patel\n",
    "\n",
    "This dataset was built to find signals correlated to increased suicide rates among different cohorts globally, across the socio-economic spectrum.The dataset contains yearly suicide detail of different countries by various parameters from 1985 to 2016.This data contains information about countries and no of suicide in that country for particular year."
   ]
  },
  {
   "cell_type": "markdown",
   "metadata": {},
   "source": [
    "#### Importing Libraries"
   ]
  },
  {
   "cell_type": "code",
   "execution_count": 122,
   "metadata": {},
   "outputs": [],
   "source": [
    "import pandas as pd\n",
    "import numpy as np\n",
    "import matplotlib.pyplot as plt\n",
    "import seaborn as sns\n",
    "\n"
   ]
  },
  {
   "cell_type": "markdown",
   "metadata": {},
   "source": [
    "#### Loading dataset"
   ]
  },
  {
   "cell_type": "code",
   "execution_count": 123,
   "metadata": {},
   "outputs": [
    {
     "data": {
      "text/html": [
       "<div>\n",
       "<style scoped>\n",
       "    .dataframe tbody tr th:only-of-type {\n",
       "        vertical-align: middle;\n",
       "    }\n",
       "\n",
       "    .dataframe tbody tr th {\n",
       "        vertical-align: top;\n",
       "    }\n",
       "\n",
       "    .dataframe thead th {\n",
       "        text-align: right;\n",
       "    }\n",
       "</style>\n",
       "<table border=\"1\" class=\"dataframe\">\n",
       "  <thead>\n",
       "    <tr style=\"text-align: right;\">\n",
       "      <th></th>\n",
       "      <th>country</th>\n",
       "      <th>year</th>\n",
       "      <th>sex</th>\n",
       "      <th>age</th>\n",
       "      <th>suicides_no</th>\n",
       "      <th>population</th>\n",
       "      <th>suicides/100k pop</th>\n",
       "      <th>HDI for year</th>\n",
       "      <th>gdp_for_year ($)</th>\n",
       "      <th>gdp_per_capita ($)</th>\n",
       "      <th>generation</th>\n",
       "    </tr>\n",
       "  </thead>\n",
       "  <tbody>\n",
       "    <tr>\n",
       "      <th>0</th>\n",
       "      <td>Albania</td>\n",
       "      <td>1987</td>\n",
       "      <td>male</td>\n",
       "      <td>15-24 years</td>\n",
       "      <td>21</td>\n",
       "      <td>312900</td>\n",
       "      <td>6.71</td>\n",
       "      <td>NaN</td>\n",
       "      <td>2,156,624,900</td>\n",
       "      <td>796</td>\n",
       "      <td>Generation X</td>\n",
       "    </tr>\n",
       "    <tr>\n",
       "      <th>1</th>\n",
       "      <td>Albania</td>\n",
       "      <td>1987</td>\n",
       "      <td>male</td>\n",
       "      <td>35-54 years</td>\n",
       "      <td>16</td>\n",
       "      <td>308000</td>\n",
       "      <td>5.19</td>\n",
       "      <td>NaN</td>\n",
       "      <td>2,156,624,900</td>\n",
       "      <td>796</td>\n",
       "      <td>Silent</td>\n",
       "    </tr>\n",
       "    <tr>\n",
       "      <th>2</th>\n",
       "      <td>Albania</td>\n",
       "      <td>1987</td>\n",
       "      <td>female</td>\n",
       "      <td>15-24 years</td>\n",
       "      <td>14</td>\n",
       "      <td>289700</td>\n",
       "      <td>4.83</td>\n",
       "      <td>NaN</td>\n",
       "      <td>2,156,624,900</td>\n",
       "      <td>796</td>\n",
       "      <td>Generation X</td>\n",
       "    </tr>\n",
       "    <tr>\n",
       "      <th>3</th>\n",
       "      <td>Albania</td>\n",
       "      <td>1987</td>\n",
       "      <td>male</td>\n",
       "      <td>75+ years</td>\n",
       "      <td>1</td>\n",
       "      <td>21800</td>\n",
       "      <td>4.59</td>\n",
       "      <td>NaN</td>\n",
       "      <td>2,156,624,900</td>\n",
       "      <td>796</td>\n",
       "      <td>G.I. Generation</td>\n",
       "    </tr>\n",
       "    <tr>\n",
       "      <th>4</th>\n",
       "      <td>Albania</td>\n",
       "      <td>1987</td>\n",
       "      <td>male</td>\n",
       "      <td>25-34 years</td>\n",
       "      <td>9</td>\n",
       "      <td>274300</td>\n",
       "      <td>3.28</td>\n",
       "      <td>NaN</td>\n",
       "      <td>2,156,624,900</td>\n",
       "      <td>796</td>\n",
       "      <td>Boomers</td>\n",
       "    </tr>\n",
       "  </tbody>\n",
       "</table>\n",
       "</div>"
      ],
      "text/plain": [
       "   country  year     sex          age  suicides_no  population  \\\n",
       "0  Albania  1987    male  15-24 years           21      312900   \n",
       "1  Albania  1987    male  35-54 years           16      308000   \n",
       "2  Albania  1987  female  15-24 years           14      289700   \n",
       "3  Albania  1987    male    75+ years            1       21800   \n",
       "4  Albania  1987    male  25-34 years            9      274300   \n",
       "\n",
       "   suicides/100k pop  HDI for year  gdp_for_year ($)   gdp_per_capita ($)  \\\n",
       "0               6.71           NaN      2,156,624,900                 796   \n",
       "1               5.19           NaN      2,156,624,900                 796   \n",
       "2               4.83           NaN      2,156,624,900                 796   \n",
       "3               4.59           NaN      2,156,624,900                 796   \n",
       "4               3.28           NaN      2,156,624,900                 796   \n",
       "\n",
       "        generation  \n",
       "0     Generation X  \n",
       "1           Silent  \n",
       "2     Generation X  \n",
       "3  G.I. Generation  \n",
       "4          Boomers  "
      ]
     },
     "execution_count": 123,
     "metadata": {},
     "output_type": "execute_result"
    }
   ],
   "source": [
    "data=pd.read_csv('/home/parth/Desktop/Projects/master.csv')\n",
    "data.head()"
   ]
  },
  {
   "cell_type": "code",
   "execution_count": 124,
   "metadata": {},
   "outputs": [
    {
     "data": {
      "text/plain": [
       "(27820, 11)"
      ]
     },
     "execution_count": 124,
     "metadata": {},
     "output_type": "execute_result"
    }
   ],
   "source": [
    "data.shape"
   ]
  },
  {
   "cell_type": "markdown",
   "metadata": {},
   "source": [
    "### What is the structure of my dataset?\n",
    "         The dataset includes 27820 rows and \n",
    "         11 columns"
   ]
  },
  {
   "cell_type": "markdown",
   "metadata": {},
   "source": [
    "### Renaming the variables "
   ]
  },
  {
   "cell_type": "code",
   "execution_count": 125,
   "metadata": {},
   "outputs": [],
   "source": [
    "data.rename(columns={\" gdp_for_year ($) \":\"gdp_for_year\",\"gdp_per_capita ($)\":\"gdp_per_capita\"},inplace=True)"
   ]
  },
  {
   "cell_type": "markdown",
   "metadata": {},
   "source": [
    "### Type of Data "
   ]
  },
  {
   "cell_type": "code",
   "execution_count": 126,
   "metadata": {},
   "outputs": [
    {
     "data": {
      "text/plain": [
       "country               object\n",
       "year                   int64\n",
       "sex                   object\n",
       "age                   object\n",
       "suicides_no            int64\n",
       "population             int64\n",
       "suicides/100k pop    float64\n",
       "HDI for year         float64\n",
       "gdp_for_year          object\n",
       "gdp_per_capita         int64\n",
       "generation            object\n",
       "dtype: object"
      ]
     },
     "execution_count": 126,
     "metadata": {},
     "output_type": "execute_result"
    }
   ],
   "source": [
    "data.dtypes"
   ]
  },
  {
   "cell_type": "code",
   "execution_count": 127,
   "metadata": {},
   "outputs": [
    {
     "data": {
      "text/html": [
       "<div>\n",
       "<style scoped>\n",
       "    .dataframe tbody tr th:only-of-type {\n",
       "        vertical-align: middle;\n",
       "    }\n",
       "\n",
       "    .dataframe tbody tr th {\n",
       "        vertical-align: top;\n",
       "    }\n",
       "\n",
       "    .dataframe thead th {\n",
       "        text-align: right;\n",
       "    }\n",
       "</style>\n",
       "<table border=\"1\" class=\"dataframe\">\n",
       "  <thead>\n",
       "    <tr style=\"text-align: right;\">\n",
       "      <th></th>\n",
       "      <th>year</th>\n",
       "      <th>suicides_no</th>\n",
       "      <th>population</th>\n",
       "      <th>suicides/100k pop</th>\n",
       "      <th>HDI for year</th>\n",
       "      <th>gdp_per_capita</th>\n",
       "    </tr>\n",
       "  </thead>\n",
       "  <tbody>\n",
       "    <tr>\n",
       "      <th>count</th>\n",
       "      <td>27820.000000</td>\n",
       "      <td>27820.000000</td>\n",
       "      <td>2.782000e+04</td>\n",
       "      <td>27820.000000</td>\n",
       "      <td>8364.000000</td>\n",
       "      <td>27820.000000</td>\n",
       "    </tr>\n",
       "    <tr>\n",
       "      <th>mean</th>\n",
       "      <td>2001.258375</td>\n",
       "      <td>242.574407</td>\n",
       "      <td>1.844794e+06</td>\n",
       "      <td>12.816097</td>\n",
       "      <td>0.776601</td>\n",
       "      <td>16866.464414</td>\n",
       "    </tr>\n",
       "    <tr>\n",
       "      <th>std</th>\n",
       "      <td>8.469055</td>\n",
       "      <td>902.047917</td>\n",
       "      <td>3.911779e+06</td>\n",
       "      <td>18.961511</td>\n",
       "      <td>0.093367</td>\n",
       "      <td>18887.576472</td>\n",
       "    </tr>\n",
       "    <tr>\n",
       "      <th>min</th>\n",
       "      <td>1985.000000</td>\n",
       "      <td>0.000000</td>\n",
       "      <td>2.780000e+02</td>\n",
       "      <td>0.000000</td>\n",
       "      <td>0.483000</td>\n",
       "      <td>251.000000</td>\n",
       "    </tr>\n",
       "    <tr>\n",
       "      <th>25%</th>\n",
       "      <td>1995.000000</td>\n",
       "      <td>3.000000</td>\n",
       "      <td>9.749850e+04</td>\n",
       "      <td>0.920000</td>\n",
       "      <td>0.713000</td>\n",
       "      <td>3447.000000</td>\n",
       "    </tr>\n",
       "    <tr>\n",
       "      <th>50%</th>\n",
       "      <td>2002.000000</td>\n",
       "      <td>25.000000</td>\n",
       "      <td>4.301500e+05</td>\n",
       "      <td>5.990000</td>\n",
       "      <td>0.779000</td>\n",
       "      <td>9372.000000</td>\n",
       "    </tr>\n",
       "    <tr>\n",
       "      <th>75%</th>\n",
       "      <td>2008.000000</td>\n",
       "      <td>131.000000</td>\n",
       "      <td>1.486143e+06</td>\n",
       "      <td>16.620000</td>\n",
       "      <td>0.855000</td>\n",
       "      <td>24874.000000</td>\n",
       "    </tr>\n",
       "    <tr>\n",
       "      <th>max</th>\n",
       "      <td>2016.000000</td>\n",
       "      <td>22338.000000</td>\n",
       "      <td>4.380521e+07</td>\n",
       "      <td>224.970000</td>\n",
       "      <td>0.944000</td>\n",
       "      <td>126352.000000</td>\n",
       "    </tr>\n",
       "  </tbody>\n",
       "</table>\n",
       "</div>"
      ],
      "text/plain": [
       "               year   suicides_no    population  suicides/100k pop  \\\n",
       "count  27820.000000  27820.000000  2.782000e+04       27820.000000   \n",
       "mean    2001.258375    242.574407  1.844794e+06          12.816097   \n",
       "std        8.469055    902.047917  3.911779e+06          18.961511   \n",
       "min     1985.000000      0.000000  2.780000e+02           0.000000   \n",
       "25%     1995.000000      3.000000  9.749850e+04           0.920000   \n",
       "50%     2002.000000     25.000000  4.301500e+05           5.990000   \n",
       "75%     2008.000000    131.000000  1.486143e+06          16.620000   \n",
       "max     2016.000000  22338.000000  4.380521e+07         224.970000   \n",
       "\n",
       "       HDI for year  gdp_per_capita  \n",
       "count   8364.000000    27820.000000  \n",
       "mean       0.776601    16866.464414  \n",
       "std        0.093367    18887.576472  \n",
       "min        0.483000      251.000000  \n",
       "25%        0.713000     3447.000000  \n",
       "50%        0.779000     9372.000000  \n",
       "75%        0.855000    24874.000000  \n",
       "max        0.944000   126352.000000  "
      ]
     },
     "execution_count": 127,
     "metadata": {},
     "output_type": "execute_result"
    }
   ],
   "source": [
    "data.describe()"
   ]
  },
  {
   "cell_type": "code",
   "execution_count": 128,
   "metadata": {},
   "outputs": [
    {
     "data": {
      "text/html": [
       "<div>\n",
       "<style scoped>\n",
       "    .dataframe tbody tr th:only-of-type {\n",
       "        vertical-align: middle;\n",
       "    }\n",
       "\n",
       "    .dataframe tbody tr th {\n",
       "        vertical-align: top;\n",
       "    }\n",
       "\n",
       "    .dataframe thead th {\n",
       "        text-align: right;\n",
       "    }\n",
       "</style>\n",
       "<table border=\"1\" class=\"dataframe\">\n",
       "  <thead>\n",
       "    <tr style=\"text-align: right;\">\n",
       "      <th></th>\n",
       "      <th>country</th>\n",
       "      <th>year</th>\n",
       "      <th>sex</th>\n",
       "      <th>age</th>\n",
       "      <th>suicides_no</th>\n",
       "      <th>population</th>\n",
       "      <th>suicides/100k pop</th>\n",
       "      <th>HDI for year</th>\n",
       "      <th>gdp_for_year</th>\n",
       "      <th>gdp_per_capita</th>\n",
       "      <th>generation</th>\n",
       "    </tr>\n",
       "  </thead>\n",
       "  <tbody>\n",
       "    <tr>\n",
       "      <th>0</th>\n",
       "      <td>Albania</td>\n",
       "      <td>1987</td>\n",
       "      <td>male</td>\n",
       "      <td>15-24 years</td>\n",
       "      <td>21</td>\n",
       "      <td>312900</td>\n",
       "      <td>6.71</td>\n",
       "      <td>0.776601</td>\n",
       "      <td>2,156,624,900</td>\n",
       "      <td>796</td>\n",
       "      <td>Generation X</td>\n",
       "    </tr>\n",
       "    <tr>\n",
       "      <th>1</th>\n",
       "      <td>Albania</td>\n",
       "      <td>1987</td>\n",
       "      <td>male</td>\n",
       "      <td>35-54 years</td>\n",
       "      <td>16</td>\n",
       "      <td>308000</td>\n",
       "      <td>5.19</td>\n",
       "      <td>0.776601</td>\n",
       "      <td>2,156,624,900</td>\n",
       "      <td>796</td>\n",
       "      <td>Silent</td>\n",
       "    </tr>\n",
       "    <tr>\n",
       "      <th>2</th>\n",
       "      <td>Albania</td>\n",
       "      <td>1987</td>\n",
       "      <td>female</td>\n",
       "      <td>15-24 years</td>\n",
       "      <td>14</td>\n",
       "      <td>289700</td>\n",
       "      <td>4.83</td>\n",
       "      <td>0.776601</td>\n",
       "      <td>2,156,624,900</td>\n",
       "      <td>796</td>\n",
       "      <td>Generation X</td>\n",
       "    </tr>\n",
       "    <tr>\n",
       "      <th>3</th>\n",
       "      <td>Albania</td>\n",
       "      <td>1987</td>\n",
       "      <td>male</td>\n",
       "      <td>75+ years</td>\n",
       "      <td>1</td>\n",
       "      <td>21800</td>\n",
       "      <td>4.59</td>\n",
       "      <td>0.776601</td>\n",
       "      <td>2,156,624,900</td>\n",
       "      <td>796</td>\n",
       "      <td>G.I. Generation</td>\n",
       "    </tr>\n",
       "    <tr>\n",
       "      <th>4</th>\n",
       "      <td>Albania</td>\n",
       "      <td>1987</td>\n",
       "      <td>male</td>\n",
       "      <td>25-34 years</td>\n",
       "      <td>9</td>\n",
       "      <td>274300</td>\n",
       "      <td>3.28</td>\n",
       "      <td>0.776601</td>\n",
       "      <td>2,156,624,900</td>\n",
       "      <td>796</td>\n",
       "      <td>Boomers</td>\n",
       "    </tr>\n",
       "  </tbody>\n",
       "</table>\n",
       "</div>"
      ],
      "text/plain": [
       "   country  year     sex          age  suicides_no  population  \\\n",
       "0  Albania  1987    male  15-24 years           21      312900   \n",
       "1  Albania  1987    male  35-54 years           16      308000   \n",
       "2  Albania  1987  female  15-24 years           14      289700   \n",
       "3  Albania  1987    male    75+ years            1       21800   \n",
       "4  Albania  1987    male  25-34 years            9      274300   \n",
       "\n",
       "   suicides/100k pop  HDI for year   gdp_for_year  gdp_per_capita  \\\n",
       "0               6.71      0.776601  2,156,624,900             796   \n",
       "1               5.19      0.776601  2,156,624,900             796   \n",
       "2               4.83      0.776601  2,156,624,900             796   \n",
       "3               4.59      0.776601  2,156,624,900             796   \n",
       "4               3.28      0.776601  2,156,624,900             796   \n",
       "\n",
       "        generation  \n",
       "0     Generation X  \n",
       "1           Silent  \n",
       "2     Generation X  \n",
       "3  G.I. Generation  \n",
       "4          Boomers  "
      ]
     },
     "execution_count": 128,
     "metadata": {},
     "output_type": "execute_result"
    }
   ],
   "source": [
    "# Filling mean of \"HDI for year\" inplace of null values in same column\n",
    "data.fillna(data.mean(), inplace=True)\n",
    "data.head()"
   ]
  },
  {
   "cell_type": "markdown",
   "metadata": {},
   "source": [
    "### Total no of suicides from 1985-2016\n",
    "    "
   ]
  },
  {
   "cell_type": "code",
   "execution_count": 129,
   "metadata": {},
   "outputs": [
    {
     "data": {
      "text/plain": [
       "6748420"
      ]
     },
     "execution_count": 129,
     "metadata": {},
     "output_type": "execute_result"
    }
   ],
   "source": [
    "data['suicides_no'].sum()"
   ]
  },
  {
   "cell_type": "markdown",
   "metadata": {},
   "source": [
    "#### Total no of death due to suicide were 6748420"
   ]
  },
  {
   "cell_type": "markdown",
   "metadata": {},
   "source": [
    "### Suicides no curve"
   ]
  },
  {
   "cell_type": "code",
   "execution_count": 130,
   "metadata": {},
   "outputs": [
    {
     "data": {
      "text/plain": [
       "Text(0,0.5,'suicides_no')"
      ]
     },
     "execution_count": 130,
     "metadata": {},
     "output_type": "execute_result"
    },
    {
     "data": {
      "image/png": "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\n",
      "text/plain": [
       "<matplotlib.figure.Figure at 0x7f807c8ee2b0>"
      ]
     },
     "metadata": {},
     "output_type": "display_data"
    }
   ],
   "source": [
    "ns = data['suicides_no'].groupby(data.year).sum()\n",
    "ns.plot(figsize=(8,6), linewidth=2, fontsize=15,color='red')\n",
    "plt.xlabel('year')\n",
    "plt.ylabel('suicides_no')"
   ]
  },
  {
   "cell_type": "markdown",
   "metadata": {},
   "source": [
    "## Suicide count by Country"
   ]
  },
